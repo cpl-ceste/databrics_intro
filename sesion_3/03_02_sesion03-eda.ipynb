{
 "cells": [
  {
   "cell_type": "markdown",
   "metadata": {
    "application/vnd.databricks.v1+cell": {
     "cellMetadata": {},
     "inputWidgets": {},
     "nuid": "0c9a173c-a92c-478c-86fc-33c2f9aae774",
     "showTitle": false,
     "tableResultSettingsMap": {},
     "title": ""
    }
   },
   "source": [
    "# Sesión 3 Databricks - Análisis Exploratorio e Introducción a Unity Catalog\n"
   ]
  },
  {
   "cell_type": "markdown",
   "metadata": {
    "application/vnd.databricks.v1+cell": {
     "cellMetadata": {},
     "inputWidgets": {},
     "nuid": "0e0aa986-8a56-4e77-848a-261bffa2cc24",
     "showTitle": false,
     "tableResultSettingsMap": {},
     "title": ""
    }
   },
   "source": [
    "## Creacion entorno"
   ]
  },
  {
   "cell_type": "markdown",
   "metadata": {
    "application/vnd.databricks.v1+cell": {
     "cellMetadata": {},
     "inputWidgets": {},
     "nuid": "3031b526-13e3-4578-9364-bd8f1d120ade",
     "showTitle": false,
     "tableResultSettingsMap": {},
     "title": ""
    }
   },
   "source": [
    "Vamos, primero de todo, a crear el entorno en el cual vamos a trabajar"
   ]
  },
  {
   "cell_type": "code",
   "execution_count": 0,
   "metadata": {
    "application/vnd.databricks.v1+cell": {
     "cellMetadata": {
      "byteLimit": 2048000,
      "implicitDf": true,
      "rowLimit": 10000
     },
     "inputWidgets": {},
     "nuid": "a6d2e6ff-4475-4f3e-9583-3dc3b3f7aa23",
     "showTitle": false,
     "tableResultSettingsMap": {},
     "title": ""
    }
   },
   "outputs": [],
   "source": [
    "%sql\n",
    "CREATE CATALOG IF NOT EXISTS sesion3;\n",
    "CREATE SCHEMA IF NOT EXISTS sesion3.data COMMENT 'This is customer catalog';\n",
    "CREATE VOLUME IF NOT EXISTS sesion3.data.landing;\n",
    "\n",
    "DESCRIBE SCHEMA EXTENDED sesion3.data;"
   ]
  },
  {
   "cell_type": "code",
   "execution_count": 0,
   "metadata": {
    "application/vnd.databricks.v1+cell": {
     "cellMetadata": {
      "byteLimit": 2048000,
      "rowLimit": 10000
     },
     "inputWidgets": {},
     "nuid": "d57d2764-4c50-42a3-b790-45f1e5bda9d9",
     "showTitle": false,
     "tableResultSettingsMap": {},
     "title": ""
    }
   },
   "outputs": [],
   "source": [
    "%sh\n",
    "curl -L https://raw.githubusercontent.com/dvddepennde/crops_training_school/refs/heads/main/nutrients_csvfile.csv -o /Volumes/sesion3/data/landing/nutrients_csvfile.csv"
   ]
  },
  {
   "cell_type": "code",
   "execution_count": 0,
   "metadata": {
    "application/vnd.databricks.v1+cell": {
     "cellMetadata": {
      "byteLimit": 2048000,
      "rowLimit": 10000
     },
     "inputWidgets": {},
     "nuid": "7875e5a8-163b-444e-98a6-488ef4e13f88",
     "showTitle": false,
     "tableResultSettingsMap": {},
     "title": ""
    }
   },
   "outputs": [],
   "source": [
    "import requests\n",
    "# Url de output\n",
    "output_path = f\"/Volumes/sesion3/data/landing/data_demo.csv\"\n",
    "\n",
    "# URL del archivo CSV\n",
    "csv_url = \"https://raw.githubusercontent.com/vbelz/Outliers_detection/refs/heads/main/data/data_demo.csv\"\n",
    "\n",
    "# Realizar la solicitud GET para obtener el archivo\n",
    "response = requests.get(csv_url)\n",
    "\n",
    "# Verificar que la solicitud fue exitosa (código 200)\n",
    "if response.status_code == 200:\n",
    "    # Guardar el archivo en la ruta de destino\n",
    "    with open(output_path, 'wb') as f:\n",
    "        f.write(response.content)\n",
    "    print(f\"Archivo descargado exitosamente en: {output_path}\")\n",
    "else:\n",
    "    print(f\"Error al descargar el archivo. Código de estado: {response.status_code}\")"
   ]
  },
  {
   "cell_type": "code",
   "execution_count": 0,
   "metadata": {
    "application/vnd.databricks.v1+cell": {
     "cellMetadata": {
      "byteLimit": 2048000,
      "rowLimit": 10000
     },
     "inputWidgets": {},
     "nuid": "9b24c6af-f90a-4d42-b6a9-44a63468e019",
     "showTitle": false,
     "tableResultSettingsMap": {},
     "title": ""
    }
   },
   "outputs": [],
   "source": [
    "path_data_demo = \"/Volumes/sesion3/data/landing/data_demo.csv\"\n",
    "df = spark.read.csv(\n",
    "    path=path_data_demo,\n",
    "    header=True,     \n",
    "    inferSchema=True\n",
    ")\n",
    "df.write.mode(\"overwrite\").saveAsTable(\"sesion3.data.casas\")\n",
    "display(df)"
   ]
  },
  {
   "cell_type": "markdown",
   "metadata": {
    "application/vnd.databricks.v1+cell": {
     "cellMetadata": {},
     "inputWidgets": {},
     "nuid": "2cda138f-fd6e-4ddc-a535-3f6acc17e4c3",
     "showTitle": false,
     "tableResultSettingsMap": {},
     "title": ""
    }
   },
   "source": [
    "## Análisis exploratorio con Spark"
   ]
  },
  {
   "cell_type": "markdown",
   "metadata": {
    "application/vnd.databricks.v1+cell": {
     "cellMetadata": {},
     "inputWidgets": {},
     "nuid": "107bf54d-ab2f-4512-9700-b5c05edf6949",
     "showTitle": false,
     "tableResultSettingsMap": {},
     "title": ""
    }
   },
   "source": [
    "### Información General del Dataset\n",
    "\n",
    "- **Dimensiones**: Indican la cantidad de observaciones y variables.\n",
    "- **Tipos de datos**: Es importante verificar que los tipos de datos sean los esperados (por ejemplo, numéricos para variables cuantitativas).\n",
    "- **Primeras filas**: Visualizar las primeras filas ayuda a entender la estructura y contenido de los datos.\n"
   ]
  },
  {
   "cell_type": "code",
   "execution_count": 0,
   "metadata": {
    "application/vnd.databricks.v1+cell": {
     "cellMetadata": {
      "byteLimit": 2048000,
      "rowLimit": 10000
     },
     "inputWidgets": {},
     "nuid": "0a67ae52-8809-410c-9ceb-cc9ee00cb88e",
     "showTitle": false,
     "tableResultSettingsMap": {},
     "title": ""
    }
   },
   "outputs": [],
   "source": [
    "# Número de filas y columnas\n",
    "print(f\"Dimensiones del DataFrame: {df.count()} filas, {len(df.columns)} columnas\")\n",
    "\n",
    "# Tipos de datos\n",
    "df.printSchema()\n",
    "\n",
    "# Mostrar las primeras filas\n",
    "df.show(5)\n"
   ]
  },
  {
   "cell_type": "code",
   "execution_count": 0,
   "metadata": {
    "application/vnd.databricks.v1+cell": {
     "cellMetadata": {
      "byteLimit": 2048000,
      "rowLimit": 10000
     },
     "inputWidgets": {},
     "nuid": "49a25591-f3d6-4ff3-af82-696813f27016",
     "showTitle": false,
     "tableResultSettingsMap": {},
     "title": ""
    }
   },
   "outputs": [],
   "source": [
    "rows = df.count()\n",
    "columns = len(df.columns)\n",
    "print(f\"Número de filas: {rows}, columnas: {columns}\")\n"
   ]
  },
  {
   "cell_type": "markdown",
   "metadata": {
    "application/vnd.databricks.v1+cell": {
     "cellMetadata": {},
     "inputWidgets": {},
     "nuid": "0cbab396-cb64-40a2-a814-d520332053d9",
     "showTitle": false,
     "tableResultSettingsMap": {},
     "title": ""
    }
   },
   "source": [
    "Como podemos observar, todas las columnas son numéricas y no hay que realizar ningún tipo de conversión. Es posible que en algún momento no lo sean y toque realizar transformaciones oportunas para poder realizar correctamente el análisis exploratorio de los datos."
   ]
  },
  {
   "cell_type": "code",
   "execution_count": 0,
   "metadata": {
    "application/vnd.databricks.v1+cell": {
     "cellMetadata": {
      "byteLimit": 2048000,
      "rowLimit": 10000
     },
     "inputWidgets": {},
     "nuid": "63ce1d9e-d088-4ee0-90fe-6810a9820b41",
     "showTitle": false,
     "tableResultSettingsMap": {},
     "title": ""
    }
   },
   "outputs": [],
   "source": [
    "from pyspark.sql.functions import isnan, when, count, col\n",
    "\n",
    "display(\n",
    "    df.select([\n",
    "    count(\n",
    "        when(\n",
    "            isnan(c), c\n",
    "        )\n",
    "    ).alias(c) for c in df.columns])\n",
    ")"
   ]
  },
  {
   "cell_type": "markdown",
   "metadata": {
    "application/vnd.databricks.v1+cell": {
     "cellMetadata": {},
     "inputWidgets": {},
     "nuid": "af360580-52ae-4b02-a19c-01c9b00272d8",
     "showTitle": false,
     "tableResultSettingsMap": {},
     "title": ""
    }
   },
   "source": [
    "El método describe() proporciona estadísticas básicas como el conteo, media, desviación estándar, mínimo y máximo para cada columna numérica del DataFrame."
   ]
  },
  {
   "cell_type": "code",
   "execution_count": 0,
   "metadata": {
    "application/vnd.databricks.v1+cell": {
     "cellMetadata": {
      "byteLimit": 2048000,
      "rowLimit": 10000
     },
     "inputWidgets": {},
     "nuid": "adda297c-f418-4ae8-9087-c55c57c2f528",
     "showTitle": false,
     "tableResultSettingsMap": {},
     "title": ""
    }
   },
   "outputs": [],
   "source": [
    "df.describe().show()"
   ]
  },
  {
   "cell_type": "markdown",
   "metadata": {
    "application/vnd.databricks.v1+cell": {
     "cellMetadata": {},
     "inputWidgets": {},
     "nuid": "ac6d9384-d769-4407-aa4d-26d2ba967f0e",
     "showTitle": false,
     "tableResultSettingsMap": {},
     "title": ""
    }
   },
   "source": [
    "Este comando generará una tabla con las siguientes estadísticas para cada columna numérica:​\n",
    "- count: Número de valores no nulos.\n",
    "- mean: Media aritmética.\n",
    "- stddev: Desviación estándar.\n",
    "- min: Valor mínimo.\n",
    "- max: Valor máximo"
   ]
  },
  {
   "cell_type": "markdown",
   "metadata": {
    "application/vnd.databricks.v1+cell": {
     "cellMetadata": {},
     "inputWidgets": {},
     "nuid": "af6cfb85-9c02-4009-9457-f6b3b0939365",
     "showTitle": false,
     "tableResultSettingsMap": {},
     "title": ""
    }
   },
   "source": [
    "El método summary() ofrece un conjunto más amplio de estadísticas, incluyendo percentiles y la mediana"
   ]
  },
  {
   "cell_type": "code",
   "execution_count": 0,
   "metadata": {
    "application/vnd.databricks.v1+cell": {
     "cellMetadata": {
      "byteLimit": 2048000,
      "rowLimit": 10000
     },
     "inputWidgets": {},
     "nuid": "33adb26a-1e19-45ef-a134-27778b3dce37",
     "showTitle": false,
     "tableResultSettingsMap": {},
     "title": ""
    }
   },
   "outputs": [],
   "source": [
    "df.summary().show()"
   ]
  },
  {
   "cell_type": "markdown",
   "metadata": {
    "application/vnd.databricks.v1+cell": {
     "cellMetadata": {},
     "inputWidgets": {},
     "nuid": "0cd89efd-a446-4845-954e-5c8cc9b02ac4",
     "showTitle": false,
     "tableResultSettingsMap": {},
     "title": ""
    }
   },
   "source": [
    "### Matriz de correlación \n",
    "\n",
    "rimero, necesitas convertir las columnas numéricas en un único vector utilizando VectorAssembler, ya que el método de correlación de PySpark requiere una columna de tipo Vector y posteriormente utiliza la clase Correlation de pyspark.ml.stat para calcular la matriz de correlación de Pearson"
   ]
  },
  {
   "cell_type": "code",
   "execution_count": 0,
   "metadata": {
    "application/vnd.databricks.v1+cell": {
     "cellMetadata": {
      "byteLimit": 2048000,
      "rowLimit": 10000
     },
     "inputWidgets": {},
     "nuid": "f9f776ad-54b3-45b9-a083-6f07a0ed74b3",
     "showTitle": false,
     "tableResultSettingsMap": {},
     "title": ""
    }
   },
   "outputs": [],
   "source": [
    "\n",
    "import numpy as np\n",
    "import pandas as pd \n",
    "import seaborn as sns\n",
    "import matplotlib.pyplot as plt\n",
    "df_pd = df.toPandas()\n",
    "pd.set_option('display.max_columns', None)\n",
    "\n",
    "plt.figure(figsize=(10, 8))\n",
    "mask_heatmap = np.triu(np.ones_like(df_pd.corr(), dtype=bool))\n",
    "sns.heatmap(data=df_pd.corr(), annot=True, linewidth=3, cmap='Blues', mask=mask_heatmap)\n",
    "plt.show()"
   ]
  },
  {
   "cell_type": "markdown",
   "metadata": {
    "application/vnd.databricks.v1+cell": {
     "cellMetadata": {},
     "inputWidgets": {},
     "nuid": "f2849612-70fe-4810-ac96-b472e7c61945",
     "showTitle": false,
     "tableResultSettingsMap": {},
     "title": ""
    }
   },
   "source": [
    "### Outliers: Sobre la columna \"time_on_market\"\n",
    "\n",
    "Un outlier (o valor atípico) es un punto de datos que se desvía significativamente del resto de las observaciones en un conjunto de datos. Estos valores pueden surgir por errores de medición, variaciones naturales o eventos poco comunes. Detectar y tratar los outliers es crucial, ya que pueden afectar negativamente la calidad de los modelos predictivos, sesgar estadísticas descriptivas y ocultar patrones importantes.​"
   ]
  },
  {
   "cell_type": "markdown",
   "metadata": {
    "application/vnd.databricks.v1+cell": {
     "cellMetadata": {},
     "inputWidgets": {},
     "nuid": "e7ccbf6f-7f58-485d-8419-ef0dd2762f35",
     "showTitle": false,
     "tableResultSettingsMap": {},
     "title": ""
    }
   },
   "source": [
    "#### Rango Intercuartilico IQR\n",
    "El IQR mide la dispersión entre el primer (Q1) y el tercer cuartil (Q3) de los datos. Este método es robusto frente a distribuciones sesgadas y no requiere suposiciones sobre la forma de los datos"
   ]
  },
  {
   "cell_type": "code",
   "execution_count": 0,
   "metadata": {
    "application/vnd.databricks.v1+cell": {
     "cellMetadata": {
      "byteLimit": 2048000,
      "rowLimit": 10000
     },
     "inputWidgets": {},
     "nuid": "16fe7c46-28f5-4ae9-9c38-afc767bac788",
     "showTitle": false,
     "tableResultSettingsMap": {},
     "title": ""
    }
   },
   "outputs": [],
   "source": [
    "from pyspark.sql import functions as F\n",
    "\n",
    "# Calcular Q1, Q3 e IQR\n",
    "quantiles = df.approxQuantile(\"time_on_market\", [0.25, 0.75], 0.05)\n",
    "q1, q3 = quantiles\n",
    "iqr = q3 - q1\n",
    "\n",
    "# Definir límites\n",
    "lower_bound = q1 - 1.5 * iqr\n",
    "upper_bound = q3 + 1.5 * iqr\n",
    "\n",
    "outliers = df.filter((F.col(\"time_on_market\") < lower_bound) | (F.col(\"time_on_market\") > upper_bound))\n",
    "\n",
    "# Mostrar los outliers\n",
    "display(outliers)\n"
   ]
  },
  {
   "cell_type": "markdown",
   "metadata": {
    "application/vnd.databricks.v1+cell": {
     "cellMetadata": {},
     "inputWidgets": {},
     "nuid": "3c975c5e-f796-43cc-98f1-84dc4322be74",
     "showTitle": false,
     "tableResultSettingsMap": {},
     "title": ""
    }
   },
   "source": [
    "#### Z-Score \n",
    "La puntuación Z indica cuántas desviaciones estándar se aleja un punto de la media. Valores con una Z-score mayor a 3 o menor a -3 suelen considerarse outliers."
   ]
  },
  {
   "cell_type": "code",
   "execution_count": 0,
   "metadata": {
    "application/vnd.databricks.v1+cell": {
     "cellMetadata": {
      "byteLimit": 2048000,
      "rowLimit": 10000
     },
     "inputWidgets": {},
     "nuid": "2b23cc16-9a8b-4a7d-bff1-65c76ed964db",
     "showTitle": false,
     "tableResultSettingsMap": {},
     "title": ""
    }
   },
   "outputs": [],
   "source": [
    "from pyspark.sql import functions as F\n",
    "\n",
    "# Calcular la media y la desviación estándar\n",
    "mean_stddev = df.select(\n",
    "    F.mean(\"time_on_market\").alias(\"mean\"),\n",
    "    F.stddev(\"time_on_market\").alias(\"stddev\")\n",
    ").first()\n",
    "\n",
    "mean_value = mean_stddev[\"mean\"]\n",
    "stddev_value = mean_stddev[\"stddev\"]\n",
    "\n",
    "# Calcular el Z-score\n",
    "df_with_zscore = df.withColumn(\n",
    "    \"zscore_time_on_market\",\n",
    "    (F.col(\"time_on_market\") - mean_value) / stddev_value\n",
    ")\n",
    "\n",
    "# Filtrar los outliers\n",
    "outliers = df_with_zscore.filter(\n",
    "    (F.abs(F.col(\"zscore_time_on_market\")) > 3)\n",
    ")\n",
    "\n",
    "# Mostrar los outliers\n",
    "display(outliers)"
   ]
  },
  {
   "cell_type": "markdown",
   "metadata": {
    "application/vnd.databricks.v1+cell": {
     "cellMetadata": {},
     "inputWidgets": {},
     "nuid": "3e94dca5-04e7-429b-9d24-6f643808bdf1",
     "showTitle": false,
     "tableResultSettingsMap": {},
     "title": ""
    }
   },
   "source": [
    "#### Detección visual\n",
    "\n",
    "En este caso, vamos a verboxplot y scatterplot:"
   ]
  },
  {
   "cell_type": "code",
   "execution_count": 0,
   "metadata": {
    "application/vnd.databricks.v1+cell": {
     "cellMetadata": {
      "byteLimit": 2048000,
      "rowLimit": 10000
     },
     "inputWidgets": {},
     "nuid": "eb30d231-115f-4bf8-85ce-efa7a38bcb10",
     "showTitle": false,
     "tableResultSettingsMap": {},
     "title": ""
    }
   },
   "outputs": [],
   "source": [
    "import matplotlib.pyplot as plt\n",
    "import seaborn as sns\n",
    "\n",
    "# Convertir a Pandas\n",
    "df_pd = df.select(['time_on_market']).toPandas()\n",
    "\n",
    "# Boxplot\n",
    "plt.figure(figsize=(12, 4))\n",
    "sns.boxplot(data=df_pd)\n",
    "plt.title(\"Boxplot de Variable time_on_market\")\n",
    "plt.show()\n",
    "\n",
    "\n"
   ]
  },
  {
   "cell_type": "code",
   "execution_count": 0,
   "metadata": {
    "application/vnd.databricks.v1+cell": {
     "cellMetadata": {
      "byteLimit": 2048000,
      "rowLimit": 10000
     },
     "inputWidgets": {},
     "nuid": "254b4809-bbf2-4b2f-bfff-6481d13088c5",
     "showTitle": false,
     "tableResultSettingsMap": {},
     "title": ""
    }
   },
   "outputs": [],
   "source": [
    "# Convert to Pandas (only once)\n",
    "df_pd = df.select(['rooms']).toPandas()\n",
    "\n",
    "# Create the pairplot\n",
    "plt.figure(figsize=(12, 4))\n",
    "sns.pairplot(df_pd, diag_kind='kde')\n",
    "plt.show()\n"
   ]
  },
  {
   "cell_type": "markdown",
   "metadata": {
    "application/vnd.databricks.v1+cell": {
     "cellMetadata": {},
     "inputWidgets": {},
     "nuid": "cf1354e7-8ff3-4cba-a053-537bda53f262",
     "showTitle": false,
     "tableResultSettingsMap": {},
     "title": ""
    }
   },
   "source": [
    "### Ejercicios\n",
    "1. Realiza analisis exploratorio sobre algun dataset de tu elección. Ten en cuenta que tendrás que, descargarlo y cargarlo como DataFrame. En caso de no saber de ninguno, podréis usar el siguiente: https://raw.githubusercontent.com/Saba-Gul/Exploratory-Data-Analysis-and-Statistical-Analysis-Notebooks/refs/heads/main/Datasets/heart_failure_clinical_records%20-%20heart_failure_clinical_records.csv"
   ]
  },
  {
   "cell_type": "code",
   "execution_count": 0,
   "metadata": {
    "application/vnd.databricks.v1+cell": {
     "cellMetadata": {},
     "inputWidgets": {},
     "nuid": "609de7bd-146b-4170-bd2a-e0ac92f39c9b",
     "showTitle": false,
     "tableResultSettingsMap": {},
     "title": ""
    }
   },
   "outputs": [],
   "source": []
  },
  {
   "cell_type": "markdown",
   "metadata": {
    "application/vnd.databricks.v1+cell": {
     "cellMetadata": {},
     "inputWidgets": {},
     "nuid": "d00ce0b6-8dd4-4985-9d8b-960bb1628a99",
     "showTitle": false,
     "tableResultSettingsMap": {},
     "title": ""
    }
   },
   "source": [
    "2. En base al dataset escogido en el anterior paso, realiza la detección de outliers con los 3 métodos enseñados"
   ]
  },
  {
   "cell_type": "code",
   "execution_count": 0,
   "metadata": {
    "application/vnd.databricks.v1+cell": {
     "cellMetadata": {},
     "inputWidgets": {},
     "nuid": "c0db0b3e-a979-4a12-a885-4b983ab37f6f",
     "showTitle": false,
     "tableResultSettingsMap": {},
     "title": ""
    }
   },
   "outputs": [],
   "source": []
  },
  {
   "cell_type": "markdown",
   "metadata": {
    "application/vnd.databricks.v1+cell": {
     "cellMetadata": {},
     "inputWidgets": {},
     "nuid": "834dc0cd-e53f-4c6b-bf83-fd411a838eae",
     "showTitle": false,
     "tableResultSettingsMap": {},
     "title": ""
    }
   },
   "source": [
    "## Analisis exploratorio SQL"
   ]
  },
  {
   "cell_type": "code",
   "execution_count": 0,
   "metadata": {
    "application/vnd.databricks.v1+cell": {
     "cellMetadata": {
      "byteLimit": 2048000,
      "implicitDf": true,
      "rowLimit": 10000
     },
     "inputWidgets": {},
     "nuid": "07e2673c-8a2e-4786-a4ce-5a162d033b66",
     "showTitle": false,
     "tableResultSettingsMap": {},
     "title": ""
    }
   },
   "outputs": [],
   "source": [
    "%sql\n",
    "-- 1.1 Ver filas de ejemplo\n",
    "SELECT * \n",
    "FROM sesion3.data.casas\n",
    "LIMIT 10;\n"
   ]
  },
  {
   "cell_type": "code",
   "execution_count": 0,
   "metadata": {
    "application/vnd.databricks.v1+cell": {
     "cellMetadata": {
      "byteLimit": 2048000,
      "implicitDf": true,
      "rowLimit": 10000
     },
     "inputWidgets": {},
     "nuid": "31e08a6f-c1d4-43ee-829e-c72ca4641837",
     "showTitle": false,
     "tableResultSettingsMap": {},
     "title": ""
    }
   },
   "outputs": [],
   "source": [
    "%sql\n",
    "-- 1.2 Número total de registros\n",
    "SELECT COUNT(*) AS total_registros\n",
    "FROM sesion3.data.casas;"
   ]
  },
  {
   "cell_type": "code",
   "execution_count": 0,
   "metadata": {
    "application/vnd.databricks.v1+cell": {
     "cellMetadata": {
      "byteLimit": 2048000,
      "implicitDf": true,
      "rowLimit": 10000
     },
     "inputWidgets": {},
     "nuid": "72cc7c41-6a53-4581-ac99-ea0d09c0101a",
     "showTitle": false,
     "tableResultSettingsMap": {},
     "title": ""
    }
   },
   "outputs": [],
   "source": [
    "%sql\n",
    "-- 1.3 Número de columnas y esquema\n",
    "DESCRIBE sesion3.data.casas;"
   ]
  },
  {
   "cell_type": "code",
   "execution_count": 0,
   "metadata": {
    "application/vnd.databricks.v1+cell": {
     "cellMetadata": {
      "byteLimit": 2048000,
      "implicitDf": true,
      "rowLimit": 10000
     },
     "inputWidgets": {},
     "nuid": "4957f9cc-9e5d-496a-bc5c-501392ce4c80",
     "showTitle": false,
     "tableResultSettingsMap": {},
     "title": ""
    }
   },
   "outputs": [],
   "source": [
    "%sql\n",
    "-- 2.1 Estadísticas clásicas (min, max, avg, stddev)\n",
    "SELECT\n",
    "  MIN(value)    AS min_value,\n",
    "  MAX(value)    AS max_value,\n",
    "  AVG(value)    AS avg_value,\n",
    "  STDDEV(value) AS stddev_value,\n",
    "  MIN(time_on_market)    AS min_tom,\n",
    "  MAX(time_on_market)    AS max_tom,\n",
    "  AVG(time_on_market)    AS avg_tom,\n",
    "  STDDEV(time_on_market) AS stddev_tom\n",
    "FROM sesion3.data.casas;"
   ]
  },
  {
   "cell_type": "code",
   "execution_count": 0,
   "metadata": {
    "application/vnd.databricks.v1+cell": {
     "cellMetadata": {
      "byteLimit": 2048000,
      "implicitDf": true,
      "rowLimit": 10000
     },
     "inputWidgets": {},
     "nuid": "df0a47eb-4cf2-481b-8029-d7cf195f9042",
     "showTitle": false,
     "tableResultSettingsMap": {},
     "title": ""
    }
   },
   "outputs": [],
   "source": [
    "%sql\n",
    "-- 2.2 Percentiles\n",
    "SELECT\n",
    "  percentile_approx(value, 0.25) AS q1_value,\n",
    "  percentile_approx(value, 0.50) AS median_value,\n",
    "  percentile_approx(value, 0.75) AS q3_value\n",
    "FROM sesion3.data.casas;"
   ]
  },
  {
   "cell_type": "code",
   "execution_count": 0,
   "metadata": {
    "application/vnd.databricks.v1+cell": {
     "cellMetadata": {
      "byteLimit": 2048000,
      "implicitDf": true,
      "rowLimit": 10000
     },
     "inputWidgets": {},
     "nuid": "5c60c11f-e8fb-48a7-8c94-b50349cd7ccb",
     "showTitle": false,
     "tableResultSettingsMap": {},
     "title": ""
    }
   },
   "outputs": [],
   "source": [
    "%sql\n",
    "-- Conteo de nulos\n",
    "SELECT\n",
    "  SUM(CASE WHEN value IS NULL THEN 1 ELSE 0 END)            AS null_value,\n",
    "  SUM(CASE WHEN time_on_market IS NULL THEN 1 ELSE 0 END)   AS null_time_on_market,\n",
    "  SUM(CASE WHEN interior_quality IS NULL THEN 1 ELSE 0 END) AS null_quality\n",
    "FROM sesion3.data.casas;\n"
   ]
  },
  {
   "cell_type": "code",
   "execution_count": 0,
   "metadata": {
    "application/vnd.databricks.v1+cell": {
     "cellMetadata": {
      "byteLimit": 2048000,
      "implicitDf": true,
      "rowLimit": 10000
     },
     "inputWidgets": {},
     "nuid": "4b512e16-c868-4ec2-8c30-d52d665abc1e",
     "showTitle": false,
     "tableResultSettingsMap": {},
     "title": ""
    }
   },
   "outputs": [],
   "source": [
    "%sql \n",
    "-- 4.1 Calcular IQR y límites\n",
    "WITH stats AS (\n",
    "  SELECT\n",
    "    percentile_approx(value, 0.25) AS q1,\n",
    "    percentile_approx(value, 0.75) AS q3\n",
    "  FROM sesion3.data.casas\n",
    "),\n",
    "bounds AS (\n",
    "  SELECT\n",
    "    q1,\n",
    "    q3,\n",
    "    (q3 - q1) AS iqr,\n",
    "    (q1 - 1.5*(q3-q1)) AS lower_bound,\n",
    "    (q3 + 1.5*(q3-q1)) AS upper_bound\n",
    "  FROM stats\n",
    ")\n",
    "-- 4.2 Identificar outliers\n",
    "SELECT c.*\n",
    "FROM sesion3.data.casas c\n",
    "CROSS JOIN bounds b\n",
    "WHERE c.value < b.lower_bound\n",
    "   OR c.value > b.upper_bound;\n"
   ]
  },
  {
   "cell_type": "code",
   "execution_count": 0,
   "metadata": {
    "application/vnd.databricks.v1+cell": {
     "cellMetadata": {
      "byteLimit": 2048000,
      "implicitDf": true,
      "rowLimit": 10000
     },
     "inputWidgets": {},
     "nuid": "d0467b06-6d1b-438f-8a87-ff30caa7efde",
     "showTitle": false,
     "tableResultSettingsMap": {},
     "title": ""
    }
   },
   "outputs": [],
   "source": [
    "%sql\n",
    "-- 5.1 Calcular media y desviación estándar\n",
    "WITH mu_sigma AS (\n",
    "  SELECT\n",
    "    AVG(time_on_market)    AS mu,\n",
    "    STDDEV(time_on_market) AS sigma\n",
    "  FROM sesion3.data.casas\n",
    ")\n",
    "-- 5.2 Calcular Z-score y filtrar\n",
    "SELECT\n",
    "  c.*,\n",
    "  (c.time_on_market - m.mu)/m.sigma AS zscore_tom\n",
    "FROM sesion3.data.casas c\n",
    "CROSS JOIN mu_sigma m\n",
    "WHERE ABS((c.time_on_market - m.mu)/m.sigma) > 3;\n"
   ]
  },
  {
   "cell_type": "code",
   "execution_count": 0,
   "metadata": {
    "application/vnd.databricks.v1+cell": {
     "cellMetadata": {
      "byteLimit": 2048000,
      "implicitDf": true,
      "rowLimit": 10000
     },
     "inputWidgets": {},
     "nuid": "cd6bf32c-6553-419e-9028-2cee73941fef",
     "showTitle": false,
     "tableResultSettingsMap": {},
     "title": ""
    }
   },
   "outputs": [],
   "source": [
    "%sql \n",
    "-- Correlaciones\n",
    "SELECT \n",
    "  corr(useful_area, value)           AS corr_area_value,\n",
    "  corr(time_on_market, value)        AS corr_tom_value,\n",
    "  corr(interior_quality, value)      AS corr_quality_value\n",
    "FROM sesion3.data.casas;\n"
   ]
  },
  {
   "cell_type": "markdown",
   "metadata": {
    "application/vnd.databricks.v1+cell": {
     "cellMetadata": {},
     "inputWidgets": {},
     "nuid": "f80bac3e-1bb9-4a46-a466-8b441825d55c",
     "showTitle": false,
     "tableResultSettingsMap": {},
     "title": ""
    }
   },
   "source": [
    "### Ejercicio\n",
    "1. Realiza alguna visualización de tipo Bar, Pie e Histogram. Realizalo sobre el conjunto elegido por ti en el conjunto de ejercicios anterior. Coge de la parte inicial del notebook como guardar el dataframe como tabla para poder realizar queries sobre él de forma cómoda."
   ]
  },
  {
   "cell_type": "code",
   "execution_count": 0,
   "metadata": {
    "application/vnd.databricks.v1+cell": {
     "cellMetadata": {},
     "inputWidgets": {},
     "nuid": "5f87be8d-c38e-46a2-b850-f71935b191a6",
     "showTitle": false,
     "tableResultSettingsMap": {},
     "title": ""
    }
   },
   "outputs": [],
   "source": []
  }
 ],
 "metadata": {
  "application/vnd.databricks.v1+notebook": {
   "computePreferences": null,
   "dashboards": [],
   "environmentMetadata": {
    "base_environment": "",
    "environment_version": "2"
   },
   "inputWidgetPreferences": null,
   "language": "python",
   "notebookMetadata": {
    "mostRecentlyExecutedCommandWithImplicitDF": {
     "commandId": 2947065290663101,
     "dataframes": [
      "_sqldf"
     ]
    },
    "pythonIndentUnit": 4
   },
   "notebookName": "03_02_sesion03-eda (1)",
   "widgets": {}
  },
  "language_info": {
   "name": "python"
  }
 },
 "nbformat": 4,
 "nbformat_minor": 0
}